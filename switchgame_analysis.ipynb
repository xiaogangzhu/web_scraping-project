{
 "cells": [
  {
   "cell_type": "code",
   "execution_count": 1,
   "metadata": {},
   "outputs": [],
   "source": [
    "import pandas as pd\n",
    "import numpy as np\n",
    "import datetime\n",
    "from matplotlib import pyplot as plt\n",
    "plt.style.use('ggplot')\n",
    "\n",
    "pd.set_option('display.max_row', None)\n",
    "pd.set_option('display.max_columns', 50)\n",
    "%matplotlib inline"
   ]
  },
  {
   "cell_type": "markdown",
   "metadata": {},
   "source": [
    "# Questions to ask"
   ]
  },
  {
   "cell_type": "markdown",
   "metadata": {},
   "source": [
    "## Popularity\n",
    "\n",
    "* How do we define if a game is popular?\n",
    "\n",
    "* What kind of game is popular on switch?\n",
    "\n",
    "* Which developer's game is the most popular?\n",
    "\n",
    "* What is the distribution of the release date? Does it have a relationship with games' popularity?\n",
    "\n"
   ]
  },
  {
   "cell_type": "markdown",
   "metadata": {},
   "source": [
    "## Success\n",
    "\n",
    "* How do we define if a game is successful?\n",
    "\n",
    "* What kind of game is successful on switch?\n",
    "\n",
    "* Which developer's game is the most successful?\n",
    "\n",
    "* What is the distribution of the release date? Does it have a relationship with games' success?"
   ]
  },
  {
   "cell_type": "markdown",
   "metadata": {},
   "source": [
    "## Online Service\n",
    "\n",
    "* Nitendo has a paid online service for people to play games together through internet, which game that has this features is the most popular? Is the games which have this feature more popular than those which do not?\n",
    "\n",
    "* How to make more people pay for the online service?\n"
   ]
  },
  {
   "cell_type": "markdown",
   "metadata": {},
   "source": [
    "## Different Platform makes a differece?\n",
    "\n",
    "* Some games are transfer from other platform such as PS4 and Wii, how is their ratings compared to games that only at switch?"
   ]
  },
  {
   "cell_type": "markdown",
   "metadata": {},
   "source": [
    "## Selling Data vs scores a game is successful or not\n",
    "\n",
    "* what is the relationship between the sales of games and games’ popularity and success? \n",
    "* Can we use three criterion we defied before to predict the selling of a game?"
   ]
  },
  {
   "cell_type": "markdown",
   "metadata": {},
   "source": [
    "# Import Dataset"
   ]
  },
  {
   "cell_type": "code",
   "execution_count": 2,
   "metadata": {},
   "outputs": [],
   "source": [
    "df = pd.read_csv('switchgame.csv')\n",
    "# df_1 = pd.read_csv('data/switchgame_10.csv')\n",
    "# df_2 = pd.read_csv('data/switchgame_11.csv')"
   ]
  },
  {
   "cell_type": "code",
   "execution_count": 3,
   "metadata": {},
   "outputs": [
    {
     "data": {
      "text/plain": [
       "(4150, 14)"
      ]
     },
     "execution_count": 3,
     "metadata": {},
     "output_type": "execute_result"
    }
   ],
   "source": [
    "df.shape"
   ]
  },
  {
   "cell_type": "markdown",
   "metadata": {},
   "source": [
    "We have 4150 observations here."
   ]
  },
  {
   "cell_type": "code",
   "execution_count": 4,
   "metadata": {},
   "outputs": [
    {
     "data": {
      "text/plain": [
       "Index(['Rating', 'critic_review_attitude', 'critic_review_count', 'developer',\n",
       "       'genre', 'meta_score', 'name', 'num_of_player', 'other_platform',\n",
       "       'rating_count', 'release_date', 'user_score', 'users_review_attitude',\n",
       "       'users_review_count'],\n",
       "      dtype='object')"
      ]
     },
     "execution_count": 4,
     "metadata": {},
     "output_type": "execute_result"
    }
   ],
   "source": [
    "df.columns"
   ]
  },
  {
   "cell_type": "code",
   "execution_count": 5,
   "metadata": {},
   "outputs": [
    {
     "data": {
      "text/plain": [
       "Rating                     object\n",
       "critic_review_attitude     object\n",
       "critic_review_count         int64\n",
       "developer                  object\n",
       "genre                      object\n",
       "meta_score                float64\n",
       "name                       object\n",
       "num_of_player              object\n",
       "other_platform             object\n",
       "rating_count                int64\n",
       "release_date               object\n",
       "user_score                float64\n",
       "users_review_attitude      object\n",
       "users_review_count          int64\n",
       "dtype: object"
      ]
     },
     "execution_count": 5,
     "metadata": {},
     "output_type": "execute_result"
    }
   ],
   "source": [
    "df.dtypes"
   ]
  },
  {
   "cell_type": "markdown",
   "metadata": {},
   "source": [
    "# Data Cleaning"
   ]
  },
  {
   "cell_type": "markdown",
   "metadata": {},
   "source": [
    "To do the data cleaning, here is something we need to do:\n",
    "\n",
    "* **Release date transfer**\n",
    "\n",
    "* **Create Online column**\n",
    "\n",
    "* **Manipulate meta_score and user_score:** \n",
    "\n",
    "* **Handling missing value**\n",
    "\n",
    "* **Order the columns** \n"
   ]
  },
  {
   "cell_type": "markdown",
   "metadata": {},
   "source": [
    "* **Release date transfer**\n",
    "\n",
    "Tranfer the release_date to datetime type"
   ]
  },
  {
   "cell_type": "code",
   "execution_count": 6,
   "metadata": {},
   "outputs": [],
   "source": [
    "# Transfer release_date to datetime type\n",
    "df['release_date'] = df.release_date.apply(lambda s: datetime.datetime.strptime(s, '%b %d, %Y').strftime('%Y/%m/%d'))\n",
    "df['release_date'] = pd.to_datetime(df['release_date'])"
   ]
  },
  {
   "cell_type": "markdown",
   "metadata": {},
   "source": [
    "* **Create Online column and is_on_other_platfrom**\n",
    "\n",
    "Generate online columns to see if the game can be played online"
   ]
  },
  {
   "cell_type": "markdown",
   "metadata": {},
   "source": [
    "First let's look at distribution of num_of_palyer's colums"
   ]
  },
  {
   "cell_type": "code",
   "execution_count": 7,
   "metadata": {},
   "outputs": [
    {
     "data": {
      "text/plain": [
       "No Online Multiplayer    3400\n",
       "Online Multiplayer        127\n",
       "Up to 4                   112\n",
       "2                          73\n",
       "Up to 8                    69\n",
       "Up to 6                    22\n",
       "Up to 10                   15\n",
       "Up to 12                    9\n",
       "Up to 16                    9\n",
       "Up to 3                     6\n",
       "Up to 22                    3\n",
       "Up to 64                    3\n",
       "Up to 5                     2\n",
       "Up to 9                     1\n",
       "Up to 18                    1\n",
       "Up to more than 64          1\n",
       "Massively Multiplayer       1\n",
       "Up to 20                    1\n",
       "Up to 32                    1\n",
       "Name: num_of_player, dtype: int64"
      ]
     },
     "execution_count": 7,
     "metadata": {},
     "output_type": "execute_result"
    }
   ],
   "source": [
    "df.num_of_player.value_counts()"
   ]
  },
  {
   "cell_type": "markdown",
   "metadata": {},
   "source": [
    "The games with 'No Online Multiplayer' cannot be player online while others can be played online. Next we generate a new columns 'online', which is True if the game can be played online, else False. Drop the num_of_player column."
   ]
  },
  {
   "cell_type": "code",
   "execution_count": 8,
   "metadata": {
    "scrolled": true
   },
   "outputs": [],
   "source": [
    "df['online'] = (df['num_of_player']!='No Online Multiplayer')\n",
    "df = df.drop(columns = ['num_of_player'])"
   ]
  },
  {
   "cell_type": "code",
   "execution_count": 9,
   "metadata": {},
   "outputs": [
    {
     "data": {
      "text/plain": [
       "False    3400\n",
       "True      750\n",
       "Name: online, dtype: int64"
      ]
     },
     "execution_count": 9,
     "metadata": {},
     "output_type": "execute_result"
    }
   ],
   "source": [
    "df.online.value_counts()"
   ]
  },
  {
   "cell_type": "code",
   "execution_count": 10,
   "metadata": {},
   "outputs": [],
   "source": [
    "df['is_on_other_platform'] = (~df[['other_platform']].isnull())\n",
    "df = df.drop(columns = ['other_platform'])"
   ]
  },
  {
   "cell_type": "markdown",
   "metadata": {},
   "source": [
    "* **Manipulate meta_score and user_score**\n",
    "\n",
    "Filter games which do have neither meta_score nor user_score. For games that have at least one meta_score and user_score, replace missing score with the exsiting score. Normalize two scores and calculate their mean as the average score."
   ]
  },
  {
   "cell_type": "markdown",
   "metadata": {},
   "source": [
    "First we want to filter games which do have neither meta_score nor user_score, and normalize them to same scale."
   ]
  },
  {
   "cell_type": "code",
   "execution_count": 11,
   "metadata": {},
   "outputs": [],
   "source": [
    "# check how many games have missing value in both meta_score and user_score\n",
    "mask = df[['meta_score','user_score']].isnull().all(axis = 1)"
   ]
  },
  {
   "cell_type": "code",
   "execution_count": 12,
   "metadata": {},
   "outputs": [],
   "source": [
    "# Make a dataframe which either meta_score or user_score exist  \n",
    "df_filter = df.loc[~mask][['name','meta_score','user_score']]\n",
    "# normalize them to same scale\n",
    "df_filter['user_score'] = df_filter['user_score']*10"
   ]
  },
  {
   "cell_type": "markdown",
   "metadata": {},
   "source": [
    "For games that have at least one meta_score and user_score, replace missing score with the exsiting score"
   ]
  },
  {
   "cell_type": "code",
   "execution_count": 13,
   "metadata": {},
   "outputs": [],
   "source": [
    "for row in df_filter.index:\n",
    "    if df_filter.loc[[row],'meta_score'].isnull().all(): #check if meta_score is missing\n",
    "        df_filter.loc[row,'meta_score'] = df_filter.loc[row,'user_score']\n",
    "    if df_filter.loc[[row],'user_score'].isnull().all(): #check if user_score is missing\n",
    "        df_filter.loc[row,'user_score'] = df_filter.loc[row,'meta_score']"
   ]
  },
  {
   "cell_type": "markdown",
   "metadata": {},
   "source": [
    "Now merge df_filter and df "
   ]
  },
  {
   "cell_type": "code",
   "execution_count": 14,
   "metadata": {},
   "outputs": [],
   "source": [
    "df = pd.merge(df.drop(['meta_score','user_score'],axis=1),df_filter,how = 'left', on='name')"
   ]
  },
  {
   "cell_type": "markdown",
   "metadata": {},
   "source": [
    "Take average of the meta_score and user_score as avg_score"
   ]
  },
  {
   "cell_type": "code",
   "execution_count": 15,
   "metadata": {},
   "outputs": [],
   "source": [
    "df['avg_score'] = (df['meta_score'] + df['user_score'])/2"
   ]
  },
  {
   "cell_type": "markdown",
   "metadata": {},
   "source": [
    "Calculate total reviews that a game received"
   ]
  },
  {
   "cell_type": "code",
   "execution_count": 16,
   "metadata": {},
   "outputs": [],
   "source": [
    "df['total_review_counts'] = df['users_review_count'] + df['critic_review_count']"
   ]
  },
  {
   "cell_type": "markdown",
   "metadata": {},
   "source": [
    "* **Handling Missing Value**"
   ]
  },
  {
   "cell_type": "markdown",
   "metadata": {},
   "source": [
    "In this dataset, missing value may have lots of meaning. For example, missing value in meta_score means that this game is not so popular that no one cares about it. For this reason we want to keep all missing value first, and when we come to the data analysis part we can do something with them."
   ]
  },
  {
   "cell_type": "markdown",
   "metadata": {},
   "source": [
    "For users_attitude and critic_attitude, there should be some missing value such as an empty dictionary, \n",
    "0 count for all element in dictionary. We want to convert them to NaN first. "
   ]
  },
  {
   "cell_type": "code",
   "execution_count": 17,
   "metadata": {},
   "outputs": [],
   "source": [
    "df = df.replace('{}',np.nan)\n",
    "df = df.replace(\"{'Positive': 0, 'Mixed': 0, 'Negative': 0}\",np.nan)"
   ]
  },
  {
   "cell_type": "markdown",
   "metadata": {},
   "source": [
    "Then let's just check how many missing values in each column."
   ]
  },
  {
   "cell_type": "code",
   "execution_count": 18,
   "metadata": {},
   "outputs": [
    {
     "data": {
      "text/plain": [
       "Rating                     776\n",
       "critic_review_attitude    1264\n",
       "critic_review_count          0\n",
       "developer                    0\n",
       "genre                        0\n",
       "name                         0\n",
       "rating_count                 0\n",
       "release_date                 0\n",
       "users_review_attitude     2069\n",
       "users_review_count           0\n",
       "online                       0\n",
       "is_on_other_platform         0\n",
       "meta_score                2227\n",
       "user_score                2227\n",
       "avg_score                 2227\n",
       "total_review_counts          0\n",
       "dtype: int64"
      ]
     },
     "execution_count": 18,
     "metadata": {},
     "output_type": "execute_result"
    }
   ],
   "source": [
    "np.sum(df.isnull())"
   ]
  },
  {
   "cell_type": "markdown",
   "metadata": {},
   "source": [
    "*  **Order columns**"
   ]
  },
  {
   "cell_type": "markdown",
   "metadata": {},
   "source": [
    "We also want to order the columns so that we have a clearer look at the dataset."
   ]
  },
  {
   "cell_type": "code",
   "execution_count": 19,
   "metadata": {},
   "outputs": [],
   "source": [
    "# Order the columns so that we have a clearer look at the dataset.  \n",
    "columns = ['name','developer','release_date','is_on_other_platform','meta_score','user_score','avg_score','rating_count','genre','Rating',\\\n",
    "           'critic_review_count','users_review_count','total_review_counts','critic_review_attitude','users_review_attitude','online']\n",
    "df = df[columns]"
   ]
  },
  {
   "cell_type": "code",
   "execution_count": 20,
   "metadata": {},
   "outputs": [
    {
     "data": {
      "text/html": [
       "<div>\n",
       "<style scoped>\n",
       "    .dataframe tbody tr th:only-of-type {\n",
       "        vertical-align: middle;\n",
       "    }\n",
       "\n",
       "    .dataframe tbody tr th {\n",
       "        vertical-align: top;\n",
       "    }\n",
       "\n",
       "    .dataframe thead th {\n",
       "        text-align: right;\n",
       "    }\n",
       "</style>\n",
       "<table border=\"1\" class=\"dataframe\">\n",
       "  <thead>\n",
       "    <tr style=\"text-align: right;\">\n",
       "      <th></th>\n",
       "      <th>name</th>\n",
       "      <th>developer</th>\n",
       "      <th>release_date</th>\n",
       "      <th>is_on_other_platform</th>\n",
       "      <th>meta_score</th>\n",
       "      <th>user_score</th>\n",
       "      <th>avg_score</th>\n",
       "      <th>rating_count</th>\n",
       "      <th>genre</th>\n",
       "      <th>Rating</th>\n",
       "      <th>critic_review_count</th>\n",
       "      <th>users_review_count</th>\n",
       "      <th>total_review_counts</th>\n",
       "      <th>critic_review_attitude</th>\n",
       "      <th>users_review_attitude</th>\n",
       "      <th>online</th>\n",
       "    </tr>\n",
       "  </thead>\n",
       "  <tbody>\n",
       "    <tr>\n",
       "      <th>1078</th>\n",
       "      <td>The King's Bird</td>\n",
       "      <td>Graffiti Games</td>\n",
       "      <td>2019-02-12</td>\n",
       "      <td>True</td>\n",
       "      <td>67.0</td>\n",
       "      <td>40.0</td>\n",
       "      <td>53.5</td>\n",
       "      <td>5</td>\n",
       "      <td>Action,Platformer,2D</td>\n",
       "      <td>NaN</td>\n",
       "      <td>9</td>\n",
       "      <td>2</td>\n",
       "      <td>11</td>\n",
       "      <td>{'Positive': 2, 'Mixed': 7, 'Negative': 0}</td>\n",
       "      <td>{'Positive': 1, 'Mixed': 0, 'Negative': 1}</td>\n",
       "      <td>False</td>\n",
       "    </tr>\n",
       "    <tr>\n",
       "      <th>231</th>\n",
       "      <td>Robbotto</td>\n",
       "      <td>JMJ</td>\n",
       "      <td>2018-08-16</td>\n",
       "      <td>True</td>\n",
       "      <td>NaN</td>\n",
       "      <td>NaN</td>\n",
       "      <td>NaN</td>\n",
       "      <td>0</td>\n",
       "      <td>Action,Platformer,2D</td>\n",
       "      <td>E</td>\n",
       "      <td>2</td>\n",
       "      <td>0</td>\n",
       "      <td>2</td>\n",
       "      <td>{'Positive': 0, 'Mixed': 2, 'Negative': 0}</td>\n",
       "      <td>NaN</td>\n",
       "      <td>True</td>\n",
       "    </tr>\n",
       "    <tr>\n",
       "      <th>4075</th>\n",
       "      <td>Bubble Bobble 4 Friends</td>\n",
       "      <td>Taito Corporation,Strictly Limited Games,ININ ...</td>\n",
       "      <td>2019-11-19</td>\n",
       "      <td>False</td>\n",
       "      <td>68.0</td>\n",
       "      <td>66.0</td>\n",
       "      <td>67.0</td>\n",
       "      <td>14</td>\n",
       "      <td>Action,Platformer,2D</td>\n",
       "      <td>E</td>\n",
       "      <td>38</td>\n",
       "      <td>3</td>\n",
       "      <td>41</td>\n",
       "      <td>{'Positive': 13, 'Mixed': 22, 'Negative': 2}</td>\n",
       "      <td>{'Positive': 0, 'Mixed': 3, 'Negative': 0}</td>\n",
       "      <td>False</td>\n",
       "    </tr>\n",
       "    <tr>\n",
       "      <th>3764</th>\n",
       "      <td>Agartha-S</td>\n",
       "      <td>Mebius</td>\n",
       "      <td>2019-01-31</td>\n",
       "      <td>False</td>\n",
       "      <td>NaN</td>\n",
       "      <td>NaN</td>\n",
       "      <td>NaN</td>\n",
       "      <td>0</td>\n",
       "      <td>Puzzle,Action</td>\n",
       "      <td>NaN</td>\n",
       "      <td>1</td>\n",
       "      <td>0</td>\n",
       "      <td>1</td>\n",
       "      <td>{'Positive': 1, 'Mixed': 0, 'Negative': 0}</td>\n",
       "      <td>NaN</td>\n",
       "      <td>False</td>\n",
       "    </tr>\n",
       "    <tr>\n",
       "      <th>3794</th>\n",
       "      <td>Arcade Archives: The Tin Star</td>\n",
       "      <td>Hamster</td>\n",
       "      <td>2020-04-02</td>\n",
       "      <td>True</td>\n",
       "      <td>NaN</td>\n",
       "      <td>NaN</td>\n",
       "      <td>NaN</td>\n",
       "      <td>0</td>\n",
       "      <td>Action,Beat-'Em-Up,2D</td>\n",
       "      <td>E10+</td>\n",
       "      <td>0</td>\n",
       "      <td>0</td>\n",
       "      <td>0</td>\n",
       "      <td>NaN</td>\n",
       "      <td>NaN</td>\n",
       "      <td>False</td>\n",
       "    </tr>\n",
       "  </tbody>\n",
       "</table>\n",
       "</div>"
      ],
      "text/plain": [
       "                               name  \\\n",
       "1078                The King's Bird   \n",
       "231                        Robbotto   \n",
       "4075        Bubble Bobble 4 Friends   \n",
       "3764                      Agartha-S   \n",
       "3794  Arcade Archives: The Tin Star   \n",
       "\n",
       "                                              developer release_date  \\\n",
       "1078                                     Graffiti Games   2019-02-12   \n",
       "231                                                 JMJ   2018-08-16   \n",
       "4075  Taito Corporation,Strictly Limited Games,ININ ...   2019-11-19   \n",
       "3764                                             Mebius   2019-01-31   \n",
       "3794                                            Hamster   2020-04-02   \n",
       "\n",
       "      is_on_other_platform  meta_score  user_score  avg_score  rating_count  \\\n",
       "1078                  True        67.0        40.0       53.5             5   \n",
       "231                   True         NaN         NaN        NaN             0   \n",
       "4075                 False        68.0        66.0       67.0            14   \n",
       "3764                 False         NaN         NaN        NaN             0   \n",
       "3794                  True         NaN         NaN        NaN             0   \n",
       "\n",
       "                      genre Rating  critic_review_count  users_review_count  \\\n",
       "1078   Action,Platformer,2D    NaN                    9                   2   \n",
       "231    Action,Platformer,2D      E                    2                   0   \n",
       "4075   Action,Platformer,2D      E                   38                   3   \n",
       "3764          Puzzle,Action    NaN                    1                   0   \n",
       "3794  Action,Beat-'Em-Up,2D   E10+                    0                   0   \n",
       "\n",
       "      total_review_counts                        critic_review_attitude  \\\n",
       "1078                   11    {'Positive': 2, 'Mixed': 7, 'Negative': 0}   \n",
       "231                     2    {'Positive': 0, 'Mixed': 2, 'Negative': 0}   \n",
       "4075                   41  {'Positive': 13, 'Mixed': 22, 'Negative': 2}   \n",
       "3764                    1    {'Positive': 1, 'Mixed': 0, 'Negative': 0}   \n",
       "3794                    0                                           NaN   \n",
       "\n",
       "                           users_review_attitude  online  \n",
       "1078  {'Positive': 1, 'Mixed': 0, 'Negative': 1}   False  \n",
       "231                                          NaN    True  \n",
       "4075  {'Positive': 0, 'Mixed': 3, 'Negative': 0}   False  \n",
       "3764                                         NaN   False  \n",
       "3794                                         NaN   False  "
      ]
     },
     "execution_count": 20,
     "metadata": {},
     "output_type": "execute_result"
    }
   ],
   "source": [
    "df.sample(5)"
   ]
  },
  {
   "cell_type": "code",
   "execution_count": 21,
   "metadata": {},
   "outputs": [],
   "source": [
    "# Save the clean data into file\n",
    "df.to_csv('switchgame_clean.csv')"
   ]
  },
  {
   "cell_type": "code",
   "execution_count": 22,
   "metadata": {},
   "outputs": [
    {
     "data": {
      "text/plain": [
       "(4150, 16)"
      ]
     },
     "execution_count": 22,
     "metadata": {},
     "output_type": "execute_result"
    }
   ],
   "source": [
    "df.shape"
   ]
  },
  {
   "cell_type": "code",
   "execution_count": 23,
   "metadata": {},
   "outputs": [
    {
     "data": {
      "text/plain": [
       "Index(['name', 'developer', 'release_date', 'is_on_other_platform',\n",
       "       'meta_score', 'user_score', 'avg_score', 'rating_count', 'genre',\n",
       "       'Rating', 'critic_review_count', 'users_review_count',\n",
       "       'total_review_counts', 'critic_review_attitude',\n",
       "       'users_review_attitude', 'online'],\n",
       "      dtype='object')"
      ]
     },
     "execution_count": 23,
     "metadata": {},
     "output_type": "execute_result"
    }
   ],
   "source": [
    "df.columns"
   ]
  },
  {
   "cell_type": "markdown",
   "metadata": {},
   "source": [
    "# Data Analysis"
   ]
  },
  {
   "cell_type": "markdown",
   "metadata": {},
   "source": [
    "# Data Summary"
   ]
  },
  {
   "cell_type": "code",
   "execution_count": 24,
   "metadata": {},
   "outputs": [
    {
     "data": {
      "text/plain": [
       "<matplotlib.axes._subplots.AxesSubplot at 0x13de0872b88>"
      ]
     },
     "execution_count": 24,
     "metadata": {},
     "output_type": "execute_result"
    },
    {
     "data": {
      "image/png": "[encoded data removed]",
      "text/plain": [
       "<Figure size 432x288 with 1 Axes>"
      ]
     },
     "metadata": {
      "needs_background": "light"
     },
     "output_type": "display_data"
    }
   ],
   "source": [
    "df['avg_score'].hist()"
   ]
  },
  {
   "cell_type": "code",
   "execution_count": 25,
   "metadata": {},
   "outputs": [
    {
     "data": {
      "text/plain": [
       "<matplotlib.axes._subplots.AxesSubplot at 0x13de055d948>"
      ]
     },
     "execution_count": 25,
     "metadata": {},
     "output_type": "execute_result"
    },
    {
     "data": {
      "image/png": "[encoded data removed]",
      "text/plain": [
       "<Figure size 432x288 with 1 Axes>"
      ]
     },
     "metadata": {
      "needs_background": "light"
     },
     "output_type": "display_data"
    }
   ],
   "source": [
    "#df.boxplot(column = 'rating_count')\n",
    "df.rating_count.hist()"
   ]
  },
  {
   "cell_type": "code",
   "execution_count": 26,
   "metadata": {},
   "outputs": [
    {
     "data": {
      "text/plain": [
       "<matplotlib.axes._subplots.AxesSubplot at 0x13de0cc8ec8>"
      ]
     },
     "execution_count": 26,
     "metadata": {},
     "output_type": "execute_result"
    },
    {
     "data": {
      "image/png": "[encoded data removed]",
      "text/plain": [
       "<Figure size 432x288 with 1 Axes>"
      ]
     },
     "metadata": {
      "needs_background": "light"
     },
     "output_type": "display_data"
    }
   ],
   "source": [
    "df['total_review_counts'].hist()"
   ]
  },
  {
   "cell_type": "code",
   "execution_count": 27,
   "metadata": {},
   "outputs": [
    {
     "data": {
      "text/plain": [
       "<matplotlib.axes._subplots.AxesSubplot at 0x13de00fa088>"
      ]
     },
     "execution_count": 27,
     "metadata": {},
     "output_type": "execute_result"
    },
    {
     "data": {
      "image/png": "[encoded data removed]",
      "text/plain": [
       "<Figure size 864x432 with 1 Axes>"
      ]
     },
     "metadata": {
      "needs_background": "light"
     },
     "output_type": "display_data"
    }
   ],
   "source": [
    "df['release_date'].hist(figsize = (12,6))"
   ]
  },
  {
   "cell_type": "markdown",
   "metadata": {},
   "source": [
    "## Polularity"
   ]
  },
  {
   "cell_type": "markdown",
   "metadata": {},
   "source": [
    "### Define popularity"
   ]
  },
  {
   "cell_type": "markdown",
   "metadata": {},
   "source": [
    "First of all, let's decide how to measure if a game is popular.\n",
    "\n",
    "* Games that have more ratings\n",
    "* Games that have more reviews"
   ]
  },
  {
   "cell_type": "code",
   "execution_count": 28,
   "metadata": {},
   "outputs": [
    {
     "data": {
      "text/html": [
       "<div>\n",
       "<style scoped>\n",
       "    .dataframe tbody tr th:only-of-type {\n",
       "        vertical-align: middle;\n",
       "    }\n",
       "\n",
       "    .dataframe tbody tr th {\n",
       "        vertical-align: top;\n",
       "    }\n",
       "\n",
       "    .dataframe thead th {\n",
       "        text-align: right;\n",
       "    }\n",
       "</style>\n",
       "<table border=\"1\" class=\"dataframe\">\n",
       "  <thead>\n",
       "    <tr style=\"text-align: right;\">\n",
       "      <th></th>\n",
       "      <th>name</th>\n",
       "      <th>rating_count</th>\n",
       "    </tr>\n",
       "  </thead>\n",
       "  <tbody>\n",
       "    <tr>\n",
       "      <th>1071</th>\n",
       "      <td>The Legend of Zelda: Breath of the Wild</td>\n",
       "      <td>15248</td>\n",
       "    </tr>\n",
       "    <tr>\n",
       "      <th>3709</th>\n",
       "      <td>Animal Crossing: New Horizons</td>\n",
       "      <td>5401</td>\n",
       "    </tr>\n",
       "    <tr>\n",
       "      <th>900</th>\n",
       "      <td>Super Mario Odyssey</td>\n",
       "      <td>5264</td>\n",
       "    </tr>\n",
       "    <tr>\n",
       "      <th>66</th>\n",
       "      <td>Pokemon Sword</td>\n",
       "      <td>5040</td>\n",
       "    </tr>\n",
       "    <tr>\n",
       "      <th>3933</th>\n",
       "      <td>Astral Chain</td>\n",
       "      <td>3173</td>\n",
       "    </tr>\n",
       "    <tr>\n",
       "      <th>882</th>\n",
       "      <td>Super Smash Bros. Ultimate</td>\n",
       "      <td>2652</td>\n",
       "    </tr>\n",
       "    <tr>\n",
       "      <th>67</th>\n",
       "      <td>Pokemon Shield</td>\n",
       "      <td>2646</td>\n",
       "    </tr>\n",
       "    <tr>\n",
       "      <th>2346</th>\n",
       "      <td>Fire Emblem: Three Houses</td>\n",
       "      <td>2190</td>\n",
       "    </tr>\n",
       "    <tr>\n",
       "      <th>1553</th>\n",
       "      <td>Xenoblade Chronicles 2</td>\n",
       "      <td>1910</td>\n",
       "    </tr>\n",
       "    <tr>\n",
       "      <th>2981</th>\n",
       "      <td>Mario Kart 8 Deluxe</td>\n",
       "      <td>1851</td>\n",
       "    </tr>\n",
       "  </tbody>\n",
       "</table>\n",
       "</div>"
      ],
      "text/plain": [
       "                                         name  rating_count\n",
       "1071  The Legend of Zelda: Breath of the Wild         15248\n",
       "3709            Animal Crossing: New Horizons          5401\n",
       "900                       Super Mario Odyssey          5264\n",
       "66                              Pokemon Sword          5040\n",
       "3933                             Astral Chain          3173\n",
       "882                Super Smash Bros. Ultimate          2652\n",
       "67                             Pokemon Shield          2646\n",
       "2346                Fire Emblem: Three Houses          2190\n",
       "1553                   Xenoblade Chronicles 2          1910\n",
       "2981                      Mario Kart 8 Deluxe          1851"
      ]
     },
     "execution_count": 28,
     "metadata": {},
     "output_type": "execute_result"
    }
   ],
   "source": [
    "df.sort_values(by='rating_count',ascending=False).head(10)[['name','rating_count']]"
   ]
  },
  {
   "cell_type": "code",
   "execution_count": 29,
   "metadata": {},
   "outputs": [
    {
     "data": {
      "text/html": [
       "<div>\n",
       "<style scoped>\n",
       "    .dataframe tbody tr th:only-of-type {\n",
       "        vertical-align: middle;\n",
       "    }\n",
       "\n",
       "    .dataframe tbody tr th {\n",
       "        vertical-align: top;\n",
       "    }\n",
       "\n",
       "    .dataframe thead th {\n",
       "        text-align: right;\n",
       "    }\n",
       "</style>\n",
       "<table border=\"1\" class=\"dataframe\">\n",
       "  <thead>\n",
       "    <tr style=\"text-align: right;\">\n",
       "      <th></th>\n",
       "      <th>name</th>\n",
       "      <th>total_review_counts</th>\n",
       "    </tr>\n",
       "  </thead>\n",
       "  <tbody>\n",
       "    <tr>\n",
       "      <th>1071</th>\n",
       "      <td>The Legend of Zelda: Breath of the Wild</td>\n",
       "      <td>4270</td>\n",
       "    </tr>\n",
       "    <tr>\n",
       "      <th>3709</th>\n",
       "      <td>Animal Crossing: New Horizons</td>\n",
       "      <td>3613</td>\n",
       "    </tr>\n",
       "    <tr>\n",
       "      <th>66</th>\n",
       "      <td>Pokemon Sword</td>\n",
       "      <td>2758</td>\n",
       "    </tr>\n",
       "    <tr>\n",
       "      <th>3933</th>\n",
       "      <td>Astral Chain</td>\n",
       "      <td>1605</td>\n",
       "    </tr>\n",
       "    <tr>\n",
       "      <th>900</th>\n",
       "      <td>Super Mario Odyssey</td>\n",
       "      <td>1537</td>\n",
       "    </tr>\n",
       "    <tr>\n",
       "      <th>67</th>\n",
       "      <td>Pokemon Shield</td>\n",
       "      <td>1392</td>\n",
       "    </tr>\n",
       "    <tr>\n",
       "      <th>882</th>\n",
       "      <td>Super Smash Bros. Ultimate</td>\n",
       "      <td>1047</td>\n",
       "    </tr>\n",
       "    <tr>\n",
       "      <th>2346</th>\n",
       "      <td>Fire Emblem: Three Houses</td>\n",
       "      <td>881</td>\n",
       "    </tr>\n",
       "    <tr>\n",
       "      <th>62</th>\n",
       "      <td>Pokemon: Let's Go, Pikachu!</td>\n",
       "      <td>762</td>\n",
       "    </tr>\n",
       "    <tr>\n",
       "      <th>1553</th>\n",
       "      <td>Xenoblade Chronicles 2</td>\n",
       "      <td>645</td>\n",
       "    </tr>\n",
       "  </tbody>\n",
       "</table>\n",
       "</div>"
      ],
      "text/plain": [
       "                                         name  total_review_counts\n",
       "1071  The Legend of Zelda: Breath of the Wild                 4270\n",
       "3709            Animal Crossing: New Horizons                 3613\n",
       "66                              Pokemon Sword                 2758\n",
       "3933                             Astral Chain                 1605\n",
       "900                       Super Mario Odyssey                 1537\n",
       "67                             Pokemon Shield                 1392\n",
       "882                Super Smash Bros. Ultimate                 1047\n",
       "2346                Fire Emblem: Three Houses                  881\n",
       "62                Pokemon: Let's Go, Pikachu!                  762\n",
       "1553                   Xenoblade Chronicles 2                  645"
      ]
     },
     "execution_count": 29,
     "metadata": {},
     "output_type": "execute_result"
    }
   ],
   "source": [
    "df.sort_values(by = 'total_review_counts',ascending = False ).head(10)[['name','total_review_counts']]"
   ]
  },
  {
   "cell_type": "markdown",
   "metadata": {},
   "source": [
    "As we can see, nine games are in top 10 using two criteria. The Legend of Zelda: Breath of the Wild is the most popular game, following Animal Crossing: New Horizons. "
   ]
  },
  {
   "cell_type": "markdown",
   "metadata": {},
   "source": [
    "### genre"
   ]
  },
  {
   "cell_type": "markdown",
   "metadata": {},
   "source": [
    "For the genre, we need to do some tricky way to split the genre."
   ]
  },
  {
   "cell_type": "code",
   "execution_count": 30,
   "metadata": {},
   "outputs": [
    {
     "data": {
      "text/html": [
       "<div>\n",
       "<style scoped>\n",
       "    .dataframe tbody tr th:only-of-type {\n",
       "        vertical-align: middle;\n",
       "    }\n",
       "\n",
       "    .dataframe tbody tr th {\n",
       "        vertical-align: top;\n",
       "    }\n",
       "\n",
       "    .dataframe thead th {\n",
       "        text-align: right;\n",
       "    }\n",
       "</style>\n",
       "<table border=\"1\" class=\"dataframe\">\n",
       "  <thead>\n",
       "    <tr style=\"text-align: right;\">\n",
       "      <th></th>\n",
       "      <th>name</th>\n",
       "      <th>developer</th>\n",
       "      <th>release_date</th>\n",
       "      <th>is_on_other_platform</th>\n",
       "      <th>meta_score</th>\n",
       "      <th>user_score</th>\n",
       "      <th>avg_score</th>\n",
       "      <th>rating_count</th>\n",
       "      <th>Rating</th>\n",
       "      <th>critic_review_count</th>\n",
       "      <th>users_review_count</th>\n",
       "      <th>total_review_counts</th>\n",
       "      <th>critic_review_attitude</th>\n",
       "      <th>users_review_attitude</th>\n",
       "      <th>online</th>\n",
       "      <th>index</th>\n",
       "      <th>genre</th>\n",
       "    </tr>\n",
       "  </thead>\n",
       "  <tbody>\n",
       "    <tr>\n",
       "      <th>0</th>\n",
       "      <td>ACA NeoGeo: Galaxy Fight - Universal Warriors</td>\n",
       "      <td>Hamster</td>\n",
       "      <td>2017-05-18</td>\n",
       "      <td>True</td>\n",
       "      <td>78.0</td>\n",
       "      <td>78.0</td>\n",
       "      <td>78.0</td>\n",
       "      <td>4</td>\n",
       "      <td>T</td>\n",
       "      <td>1</td>\n",
       "      <td>0</td>\n",
       "      <td>1</td>\n",
       "      <td>{'Positive': 0, 'Mixed': 0, 'Negative': 1}</td>\n",
       "      <td>NaN</td>\n",
       "      <td>False</td>\n",
       "      <td>0</td>\n",
       "      <td>Action</td>\n",
       "    </tr>\n",
       "    <tr>\n",
       "      <th>1</th>\n",
       "      <td>ACA NeoGeo: Galaxy Fight - Universal Warriors</td>\n",
       "      <td>Hamster</td>\n",
       "      <td>2017-05-18</td>\n",
       "      <td>True</td>\n",
       "      <td>78.0</td>\n",
       "      <td>78.0</td>\n",
       "      <td>78.0</td>\n",
       "      <td>4</td>\n",
       "      <td>T</td>\n",
       "      <td>1</td>\n",
       "      <td>0</td>\n",
       "      <td>1</td>\n",
       "      <td>{'Positive': 0, 'Mixed': 0, 'Negative': 1}</td>\n",
       "      <td>NaN</td>\n",
       "      <td>False</td>\n",
       "      <td>0</td>\n",
       "      <td>Fighting</td>\n",
       "    </tr>\n",
       "    <tr>\n",
       "      <th>2</th>\n",
       "      <td>ACA NeoGeo: Galaxy Fight - Universal Warriors</td>\n",
       "      <td>Hamster</td>\n",
       "      <td>2017-05-18</td>\n",
       "      <td>True</td>\n",
       "      <td>78.0</td>\n",
       "      <td>78.0</td>\n",
       "      <td>78.0</td>\n",
       "      <td>4</td>\n",
       "      <td>T</td>\n",
       "      <td>1</td>\n",
       "      <td>0</td>\n",
       "      <td>1</td>\n",
       "      <td>{'Positive': 0, 'Mixed': 0, 'Negative': 1}</td>\n",
       "      <td>NaN</td>\n",
       "      <td>False</td>\n",
       "      <td>0</td>\n",
       "      <td>2D</td>\n",
       "    </tr>\n",
       "    <tr>\n",
       "      <th>3</th>\n",
       "      <td>Zumba Burn it Up!</td>\n",
       "      <td>505 Games</td>\n",
       "      <td>2019-11-19</td>\n",
       "      <td>False</td>\n",
       "      <td>69.0</td>\n",
       "      <td>69.0</td>\n",
       "      <td>69.0</td>\n",
       "      <td>0</td>\n",
       "      <td>E</td>\n",
       "      <td>6</td>\n",
       "      <td>2</td>\n",
       "      <td>8</td>\n",
       "      <td>{'Positive': 2, 'Mixed': 4, 'Negative': 0}</td>\n",
       "      <td>{'Positive': 0, 'Mixed': 0, 'Negative': 2}</td>\n",
       "      <td>False</td>\n",
       "      <td>1</td>\n",
       "      <td>Miscellaneous</td>\n",
       "    </tr>\n",
       "    <tr>\n",
       "      <th>4</th>\n",
       "      <td>Zumba Burn it Up!</td>\n",
       "      <td>505 Games</td>\n",
       "      <td>2019-11-19</td>\n",
       "      <td>False</td>\n",
       "      <td>69.0</td>\n",
       "      <td>69.0</td>\n",
       "      <td>69.0</td>\n",
       "      <td>0</td>\n",
       "      <td>E</td>\n",
       "      <td>6</td>\n",
       "      <td>2</td>\n",
       "      <td>8</td>\n",
       "      <td>{'Positive': 2, 'Mixed': 4, 'Negative': 0}</td>\n",
       "      <td>{'Positive': 0, 'Mixed': 0, 'Negative': 2}</td>\n",
       "      <td>False</td>\n",
       "      <td>1</td>\n",
       "      <td>Exercise / Fitness</td>\n",
       "    </tr>\n",
       "  </tbody>\n",
       "</table>\n",
       "</div>"
      ],
      "text/plain": [
       "                                            name  developer release_date  \\\n",
       "0  ACA NeoGeo: Galaxy Fight - Universal Warriors    Hamster   2017-05-18   \n",
       "1  ACA NeoGeo: Galaxy Fight - Universal Warriors    Hamster   2017-05-18   \n",
       "2  ACA NeoGeo: Galaxy Fight - Universal Warriors    Hamster   2017-05-18   \n",
       "3                              Zumba Burn it Up!  505 Games   2019-11-19   \n",
       "4                              Zumba Burn it Up!  505 Games   2019-11-19   \n",
       "\n",
       "   is_on_other_platform  meta_score  user_score  avg_score  rating_count  \\\n",
       "0                  True        78.0        78.0       78.0             4   \n",
       "1                  True        78.0        78.0       78.0             4   \n",
       "2                  True        78.0        78.0       78.0             4   \n",
       "3                 False        69.0        69.0       69.0             0   \n",
       "4                 False        69.0        69.0       69.0             0   \n",
       "\n",
       "  Rating  critic_review_count  users_review_count  total_review_counts  \\\n",
       "0      T                    1                   0                    1   \n",
       "1      T                    1                   0                    1   \n",
       "2      T                    1                   0                    1   \n",
       "3      E                    6                   2                    8   \n",
       "4      E                    6                   2                    8   \n",
       "\n",
       "                       critic_review_attitude  \\\n",
       "0  {'Positive': 0, 'Mixed': 0, 'Negative': 1}   \n",
       "1  {'Positive': 0, 'Mixed': 0, 'Negative': 1}   \n",
       "2  {'Positive': 0, 'Mixed': 0, 'Negative': 1}   \n",
       "3  {'Positive': 2, 'Mixed': 4, 'Negative': 0}   \n",
       "4  {'Positive': 2, 'Mixed': 4, 'Negative': 0}   \n",
       "\n",
       "                        users_review_attitude  online  index  \\\n",
       "0                                         NaN   False      0   \n",
       "1                                         NaN   False      0   \n",
       "2                                         NaN   False      0   \n",
       "3  {'Positive': 0, 'Mixed': 0, 'Negative': 2}   False      1   \n",
       "4  {'Positive': 0, 'Mixed': 0, 'Negative': 2}   False      1   \n",
       "\n",
       "                genre  \n",
       "0              Action  \n",
       "1            Fighting  \n",
       "2                  2D  \n",
       "3       Miscellaneous  \n",
       "4  Exercise / Fitness  "
      ]
     },
     "execution_count": 30,
     "metadata": {},
     "output_type": "execute_result"
    }
   ],
   "source": [
    "# Make a copy of the original dataframe\n",
    "df_genre = df.copy()\n",
    "# Split the column the column using '|'\n",
    "df_genre.genre = df_genre.genre.apply(lambda x: x.split(','))\n",
    "# i keeps tracks of index\n",
    "index=0\n",
    "# save [index, genre] in a nested list\n",
    "list_ = []\n",
    "for item in df_genre.genre:\n",
    "    list_.extend(map(lambda x: [index, x], item))\n",
    "    index += 1\n",
    "genre = pd.DataFrame(list_, columns=['index', 'genre'])\n",
    "df_genre = pd.merge(df_genre.drop('genre', axis=1), genre, how='right', left_index=True, right_on='index')\n",
    "df_genre.head()"
   ]
  },
  {
   "cell_type": "code",
   "execution_count": 31,
   "metadata": {},
   "outputs": [],
   "source": [
    "df_genre = df_genre[df_genre['genre']!='Other'] # Exclude other in genre\n",
    "df_genre = df_genre.replace('Tactical','Tactics')"
   ]
  },
  {
   "cell_type": "code",
   "execution_count": 32,
   "metadata": {
    "scrolled": true
   },
   "outputs": [
    {
     "data": {
      "text/plain": [
       "Action                   1796\n",
       "General                   994\n",
       "2D                        668\n",
       "Platformer                530\n",
       "Adventure                 450\n",
       "Puzzle                    446\n",
       "Shooter                   427\n",
       "Arcade                    345\n",
       "Miscellaneous             317\n",
       "Role-Playing              314\n",
       "Shoot-'Em-Up              310\n",
       "Action Adventure          306\n",
       "Strategy                  296\n",
       "Simulation                203\n",
       "3D                        187\n",
       "Sports                    179\n",
       "Fighting                  148\n",
       "Top-Down                  144\n",
       "Action RPG                135\n",
       "Racing                    129\n",
       "First-Person              128\n",
       "Turn-Based                115\n",
       "Automobile                105\n",
       "Visual Novel              102\n",
       "Compilation               102\n",
       "Beat-'Em-Up                99\n",
       "Vertical                   99\n",
       "Individual                 98\n",
       "Tactics                    91\n",
       "Party / Minigame           87\n",
       "Japanese-Style             86\n",
       "Logic                      80\n",
       "Horizontal                 74\n",
       "Team                       74\n",
       "Point-and-Click            71\n",
       "Real-Time                  68\n",
       "Management                 66\n",
       "Virtual                    66\n",
       "Open-World                 65\n",
       "Board / Card Game          65\n",
       "Survival                   63\n",
       "Third-Person               57\n",
       "Business / Tycoon          54\n",
       "Combat                     54\n",
       "Career                     53\n",
       "Matching                   43\n",
       "Rhythm                     43\n",
       "Music                      38\n",
       "Pinball                    37\n",
       "Soccer                     37\n",
       "Hidden Object              32\n",
       "Edutainment                32\n",
       "Vehicle                    32\n",
       "Civilian                   31\n",
       "Linear                     30\n",
       "Defense                    28\n",
       "Flight                     27\n",
       "Roguelike                  25\n",
       "Sim                        20\n",
       "Sandbox                    18\n",
       "Card Battle                18\n",
       "Futuristic                 16\n",
       "Golf                       16\n",
       "Western-Style              16\n",
       "Stacking                   14\n",
       "Nature                     13\n",
       "Tennis                     13\n",
       "Space                      12\n",
       "Light Gun                  11\n",
       "Baseball                   11\n",
       "Virtual Life               11\n",
       "Rail                       10\n",
       "Gambling                   10\n",
       "Basketball                  9\n",
       "Trivia / Game Show          8\n",
       "Command                     8\n",
       "Bowling                     8\n",
       "Fishing                     8\n",
       "Football                    7\n",
       "Horse Racing                7\n",
       "Government                  7\n",
       "Biking                      6\n",
       "Application                 6\n",
       "Marine                      6\n",
       "Billiards                   6\n",
       "Athletics                   6\n",
       "Boxing / Martial Arts       6\n",
       "Trainer                     6\n",
       "Dancing                     5\n",
       "Text                        5\n",
       "Hunting                     5\n",
       "MOBA                        5\n",
       "4X                          5\n",
       "Wrestling                   4\n",
       "Ski / Snowboard             4\n",
       "Exercise / Fitness          4\n",
       "Massively Multiplayer       3\n",
       "Pet                         3\n",
       "Cricket                     2\n",
       "Volleyball                  2\n",
       "Train                       2\n",
       "Rugby                       1\n",
       "Ice Hockey                  1\n",
       "Skate / Skateboard          1\n",
       "Artillery                   1\n",
       "Name: genre, dtype: int64"
      ]
     },
     "execution_count": 32,
     "metadata": {},
     "output_type": "execute_result"
    }
   ],
   "source": [
    "df_genre.genre.value_counts()#.head(10)"
   ]
  },
  {
   "cell_type": "code",
   "execution_count": 33,
   "metadata": {},
   "outputs": [
    {
     "data": {
      "image/png": "[encoded data removed]",
      "text/plain": [
       "<Figure size 864x432 with 2 Axes>"
      ]
     },
     "metadata": {
      "needs_background": "light"
     },
     "output_type": "display_data"
    }
   ],
   "source": [
    "# draw top 10 genres that have highest average ratings count\n",
    "group_genre = df_genre.groupby('genre')['rating_count'].agg(['count','mean']).sort_values(by='mean',ascending=False)\n",
    "group_genre = group_genre[group_genre['count']>10] #Filter genre that has less than 10 games\n",
    "\n",
    "plt.figure(figsize=(12,6))\n",
    "plt.subplot(1,2,1)\n",
    "group_genre.head(10)['mean'].plot.bar()\n",
    "plt.xlabel('Genre',fontweight='bold',fontsize=15)\n",
    "plt.ylabel('Averge rating count',fontweight='bold',fontsize=15)\n",
    "plt.xticks(fontweight='bold',fontsize=12)\n",
    "plt.yticks(fontweight='bold',fontsize=12)\n",
    "plt.title('Top 10 genres that have highest average ratings count',fontsize=12)\n",
    "\n",
    "\n",
    "# draw top 10 genres that have higest Averge total reviews count\n",
    "group_genre = df_genre.groupby('genre')['total_review_counts'].agg(['count','mean']).sort_values(by='mean',ascending=False)\n",
    "group_genre = group_genre[group_genre['count']>10] #Filter genre that has less than 10 games\n",
    "\n",
    "plt.subplot(1,2,2)\n",
    "group_genre.head(10)['mean'].plot.bar()\n",
    "plt.xlabel('Genre',fontweight='bold',fontsize=15)\n",
    "plt.ylabel('Averge total reviews count',fontweight='bold',fontsize=15)\n",
    "plt.xticks(fontweight='bold',fontsize=12)\n",
    "plt.yticks(fontweight='bold',fontsize=12)\n",
    "plt.title('Top 10 genres that have highest Averge total reviews count',fontsize=12)\n",
    "plt.savefig('genre_popular.png',bbox_inches = 'tight')"
   ]
  },
  {
   "cell_type": "markdown",
   "metadata": {},
   "source": [
    "### Developer"
   ]
  },
  {
   "cell_type": "code",
   "execution_count": 34,
   "metadata": {},
   "outputs": [],
   "source": [
    "# Make a copy of the original dataframe\n",
    "df_developer = df.copy()\n",
    "# Split the column the column using '|'\n",
    "df_developer.developer = df_developer.developer.apply(lambda x: x.split(','))\n",
    "# i keeps tracks of index\n",
    "index=0\n",
    "# save [index, genre] in a nested list\n",
    "list_ = []\n",
    "for item in df_developer.developer:\n",
    "    list_.extend(map(lambda x: [index, x], item))\n",
    "    index += 1\n",
    "developer = pd.DataFrame(list_, columns=['index', 'developer'])\n",
    "df_developer = pd.merge(df_developer.drop('developer', axis=1), developer, how='right', left_index=True, right_on='index')\n",
    "#df_developer.head()"
   ]
  },
  {
   "cell_type": "code",
   "execution_count": 35,
   "metadata": {},
   "outputs": [
    {
     "data": {
      "text/plain": [
       "Hamster                  213\n",
       "Nintendo                 104\n",
       "Ratalaika Games           74\n",
       "Forever Entertainment     62\n",
       "Ultimate Games            54\n",
       "Sega                      49\n",
       "Arc System Works          45\n",
       "Bandai Namco Games        44\n",
       "Digerati Distribution     42\n",
       "Ubisoft                   40\n",
       "Name: developer, dtype: int64"
      ]
     },
     "execution_count": 35,
     "metadata": {},
     "output_type": "execute_result"
    }
   ],
   "source": [
    "df_developer.developer.value_counts().head(10)"
   ]
  },
  {
   "cell_type": "code",
   "execution_count": 36,
   "metadata": {},
   "outputs": [
    {
     "data": {
      "image/png": "[encoded data removed]",
      "text/plain": [
       "<Figure size 864x432 with 2 Axes>"
      ]
     },
     "metadata": {
      "needs_background": "light"
     },
     "output_type": "display_data"
    }
   ],
   "source": [
    "# plot Top 10 developer that have highest average ratings count\n",
    "group_developer = df_developer.groupby('developer')['rating_count'].agg(['count','mean']).sort_values(by='mean',ascending=False)\n",
    "group_developer = group_developer[group_developer['count']>10] #Filter developer that has less than 10 games\n",
    "plt.figure(figsize=(12,6))\n",
    "plt.subplot(1,2,1)\n",
    "group_developer.head(10)['mean'].plot.bar()\n",
    "plt.xlabel('Developer',fontweight='bold',fontsize=15)\n",
    "plt.ylabel('Averge rating count',fontweight='bold',fontsize=15)\n",
    "plt.xticks(fontweight='bold',fontsize=12)\n",
    "plt.yticks(fontweight='bold',fontsize=12)\n",
    "plt.title('Top 10 developers that have highest average ratings count',fontsize=10)\n",
    "\n",
    "# plot Top 10 developers that have highest Averge total reviews count\n",
    "group_developer = df_developer.groupby('developer')['total_review_counts'].agg(['count','mean']).sort_values(by='mean',ascending=False)\n",
    "group_developer = group_developer[group_developer['count']>10] #Filter developer that has less than 10 games\n",
    "plt.subplot(1,2,2)\n",
    "group_developer.head(10)['mean'].plot.bar()\n",
    "plt.xlabel('Developer',fontweight='bold',fontsize=15)\n",
    "plt.ylabel('Averge total reviews count',fontweight='bold',fontsize=15)\n",
    "plt.xticks(fontweight='bold',fontsize=12)\n",
    "plt.yticks(fontweight='bold',fontsize=12)\n",
    "plt.title('Top 10 developers that have highest Averge total reviews count',fontsize=10)\n",
    "plt.savefig('developer_popular.png',bbox_inches = 'tight')"
   ]
  },
  {
   "cell_type": "markdown",
   "metadata": {},
   "source": [
    "### Release Date"
   ]
  },
  {
   "cell_type": "code",
   "execution_count": null,
   "metadata": {},
   "outputs": [],
   "source": []
  },
  {
   "cell_type": "code",
   "execution_count": 63,
   "metadata": {},
   "outputs": [
    {
     "data": {
      "image/png": "[encoded data removed]",
      "text/plain": [
       "<Figure size 864x432 with 1 Axes>"
      ]
     },
     "metadata": {
      "needs_background": "light"
     },
     "output_type": "display_data"
    }
   ],
   "source": [
    "df.plot.scatter(x='release_date',y='rating_count',figsize=(12,6))\n",
    "plt.xlabel('Release date',fontweight='bold',fontsize=15)\n",
    "plt.ylabel('Ratings count',fontweight='bold',fontsize=15)\n",
    "plt.xticks(fontweight='bold',fontsize=12)\n",
    "plt.yticks(fontweight='bold',fontsize=12)\n",
    "plt.title('Rating count vs Release date',fontsize=15)\n",
    "plt.savefig('date_ratingcount.png',bbox_inches = 'tight')"
   ]
  },
  {
   "cell_type": "code",
   "execution_count": 64,
   "metadata": {},
   "outputs": [
    {
     "data": {
      "image/png": "[encoded data removed]",
      "text/plain": [
       "<Figure size 864x432 with 1 Axes>"
      ]
     },
     "metadata": {
      "needs_background": "light"
     },
     "output_type": "display_data"
    }
   ],
   "source": [
    "df.plot.scatter(x='release_date',y='total_review_counts',figsize=(12,6))\n",
    "plt.xlabel('Release date',fontweight='bold',fontsize=15)\n",
    "plt.ylabel('Total Reviews count',fontweight='bold',fontsize=15)\n",
    "plt.xticks(fontweight='bold',fontsize=12)\n",
    "plt.yticks(fontweight='bold',fontsize=12)\n",
    "plt.title('Total reviews count vs Release date',fontsize=15)\n",
    "plt.savefig('date_reviewcount.png',bbox_inches = 'tight')"
   ]
  },
  {
   "cell_type": "markdown",
   "metadata": {},
   "source": [
    "## Success"
   ]
  },
  {
   "cell_type": "markdown",
   "metadata": {},
   "source": [
    "### Define Success of a game"
   ]
  },
  {
   "cell_type": "markdown",
   "metadata": {},
   "source": [
    "Let's decide how to measure if a game is success. Meta_score is the critics' attitude toward the game. User_score is the user's attitude toward the game. In the data cleaning we have already combined them into avg_score. So if the avg_score of a game is high, that means both user and critics love the game. Let's now measure the avg_score of all games."
   ]
  },
  {
   "cell_type": "code",
   "execution_count": 39,
   "metadata": {},
   "outputs": [
    {
     "data": {
      "text/html": [
       "<div>\n",
       "<style scoped>\n",
       "    .dataframe tbody tr th:only-of-type {\n",
       "        vertical-align: middle;\n",
       "    }\n",
       "\n",
       "    .dataframe tbody tr th {\n",
       "        vertical-align: top;\n",
       "    }\n",
       "\n",
       "    .dataframe thead th {\n",
       "        text-align: right;\n",
       "    }\n",
       "</style>\n",
       "<table border=\"1\" class=\"dataframe\">\n",
       "  <thead>\n",
       "    <tr style=\"text-align: right;\">\n",
       "      <th></th>\n",
       "      <th>name</th>\n",
       "      <th>avg_score</th>\n",
       "    </tr>\n",
       "  </thead>\n",
       "  <tbody>\n",
       "    <tr>\n",
       "      <th>900</th>\n",
       "      <td>Super Mario Odyssey</td>\n",
       "      <td>93.0</td>\n",
       "    </tr>\n",
       "    <tr>\n",
       "      <th>1071</th>\n",
       "      <td>The Legend of Zelda: Breath of the Wild</td>\n",
       "      <td>91.5</td>\n",
       "    </tr>\n",
       "    <tr>\n",
       "      <th>2008</th>\n",
       "      <td>Divinity: Original Sin II - Definitive Edition</td>\n",
       "      <td>90.0</td>\n",
       "    </tr>\n",
       "    <tr>\n",
       "      <th>906</th>\n",
       "      <td>Super Kickers League</td>\n",
       "      <td>90.0</td>\n",
       "    </tr>\n",
       "    <tr>\n",
       "      <th>882</th>\n",
       "      <td>Super Smash Bros. Ultimate</td>\n",
       "      <td>89.5</td>\n",
       "    </tr>\n",
       "    <tr>\n",
       "      <th>1546</th>\n",
       "      <td>Xenoblade Chronicles: Definitive Edition</td>\n",
       "      <td>89.5</td>\n",
       "    </tr>\n",
       "    <tr>\n",
       "      <th>2612</th>\n",
       "      <td>Hollow Knight</td>\n",
       "      <td>89.5</td>\n",
       "    </tr>\n",
       "    <tr>\n",
       "      <th>2981</th>\n",
       "      <td>Mario Kart 8 Deluxe</td>\n",
       "      <td>89.0</td>\n",
       "    </tr>\n",
       "    <tr>\n",
       "      <th>4037</th>\n",
       "      <td>Bayonetta 2</td>\n",
       "      <td>89.0</td>\n",
       "    </tr>\n",
       "    <tr>\n",
       "      <th>1700</th>\n",
       "      <td>Celeste</td>\n",
       "      <td>88.5</td>\n",
       "    </tr>\n",
       "  </tbody>\n",
       "</table>\n",
       "</div>"
      ],
      "text/plain": [
       "                                                name  avg_score\n",
       "900                              Super Mario Odyssey       93.0\n",
       "1071         The Legend of Zelda: Breath of the Wild       91.5\n",
       "2008  Divinity: Original Sin II - Definitive Edition       90.0\n",
       "906                             Super Kickers League       90.0\n",
       "882                       Super Smash Bros. Ultimate       89.5\n",
       "1546        Xenoblade Chronicles: Definitive Edition       89.5\n",
       "2612                                   Hollow Knight       89.5\n",
       "2981                             Mario Kart 8 Deluxe       89.0\n",
       "4037                                     Bayonetta 2       89.0\n",
       "1700                                         Celeste       88.5"
      ]
     },
     "execution_count": 39,
     "metadata": {},
     "output_type": "execute_result"
    }
   ],
   "source": [
    "df[['name','avg_score']].sort_values(by = 'avg_score',ascending = False).head(10)"
   ]
  },
  {
   "cell_type": "markdown",
   "metadata": {},
   "source": [
    "The most success game is Super Mario Odyssey following by The Legend of Zelda: Breath of the Wild"
   ]
  },
  {
   "cell_type": "markdown",
   "metadata": {},
   "source": [
    "### genre"
   ]
  },
  {
   "cell_type": "code",
   "execution_count": 65,
   "metadata": {},
   "outputs": [
    {
     "data": {
      "image/png": "[encoded data removed]",
      "text/plain": [
       "<Figure size 864x432 with 1 Axes>"
      ]
     },
     "metadata": {
      "needs_background": "light"
     },
     "output_type": "display_data"
    }
   ],
   "source": [
    "group_genre = df_genre.groupby('genre')['avg_score'].agg(['count','mean']).sort_values(by='mean',ascending=False)\n",
    "group_genre = group_genre[group_genre['count']>10] #Filter genre that has less than 10 games\n",
    "plt.figure(figsize=(12,6))\n",
    "group_genre.head(10)['mean'].plot.bar()\n",
    "plt.xlabel('Genre',fontweight='bold',fontsize=15)\n",
    "plt.ylabel('Averge scores',fontweight='bold',fontsize=15)\n",
    "plt.xticks(fontweight='bold',fontsize=12)\n",
    "plt.yticks(fontweight='bold',fontsize=12)\n",
    "plt.title('Top 10 genres that have highest Averge scores',fontsize=10)\n",
    "plt.savefig('genre_success.png',bbox_inches = 'tight')"
   ]
  },
  {
   "cell_type": "markdown",
   "metadata": {},
   "source": [
    "### Developer"
   ]
  },
  {
   "cell_type": "code",
   "execution_count": 41,
   "metadata": {},
   "outputs": [
    {
     "data": {
      "image/png": "[encoded data removed]",
      "text/plain": [
       "<Figure size 864x432 with 1 Axes>"
      ]
     },
     "metadata": {
      "needs_background": "light"
     },
     "output_type": "display_data"
    }
   ],
   "source": [
    "group_developer = df_developer.groupby('developer')['avg_score'].agg(['count','mean']).sort_values(by='mean',ascending=False)\n",
    "group_developer = group_developer[group_developer['count']>10] #Filter developer that has less than 10 games\n",
    "plt.figure(figsize=(12,6))\n",
    "group_developer.head(10)['mean'].plot.bar()\n",
    "plt.xlabel('Developer',fontweight='bold',fontsize=15)\n",
    "plt.ylabel('Averge scores',fontweight='bold',fontsize=15)\n",
    "plt.xticks(fontweight='bold',fontsize=12)\n",
    "plt.yticks(fontweight='bold',fontsize=12)\n",
    "plt.title('Top 10 developers that have highest Averge scores',fontsize=10)\n",
    "plt.savefig('developer_success.png',bbox_inches = 'tight')"
   ]
  },
  {
   "cell_type": "markdown",
   "metadata": {},
   "source": [
    "### Release Date"
   ]
  },
  {
   "cell_type": "code",
   "execution_count": 66,
   "metadata": {},
   "outputs": [
    {
     "data": {
      "image/png": "[encoded data removed]",
      "text/plain": [
       "<Figure size 864x432 with 1 Axes>"
      ]
     },
     "metadata": {
      "needs_background": "light"
     },
     "output_type": "display_data"
    }
   ],
   "source": [
    "df.plot.scatter(x='release_date',y='avg_score',figsize=(12,6))\n",
    "plt.xlabel('Release date',fontweight='bold',fontsize=15)\n",
    "plt.ylabel('Average score',fontweight='bold',fontsize=15)\n",
    "plt.xticks(fontweight='bold',fontsize=12)\n",
    "plt.yticks(fontweight='bold',fontsize=12)\n",
    "plt.title('Average score vs Release date',fontsize=15)\n",
    "plt.savefig('date_score.png',bbox_inches = 'tight')"
   ]
  },
  {
   "cell_type": "markdown",
   "metadata": {},
   "source": [
    "## Online Service\n",
    "\n",
    "5.Nitendo has a paid online service for people to play games together through internet, which game that has this features is the most popular and successful? Is the games which have this feature more popular than those which do not?\n",
    "\n",
    "6.How to make more people pay for the online service?\n"
   ]
  },
  {
   "cell_type": "code",
   "execution_count": 43,
   "metadata": {},
   "outputs": [
    {
     "data": {
      "text/plain": [
       "False    3400\n",
       "True      750\n",
       "Name: online, dtype: int64"
      ]
     },
     "execution_count": 43,
     "metadata": {},
     "output_type": "execute_result"
    }
   ],
   "source": [
    "df.online.value_counts()"
   ]
  },
  {
   "cell_type": "code",
   "execution_count": 44,
   "metadata": {},
   "outputs": [
    {
     "data": {
      "text/plain": [
       "Index(['name', 'developer', 'release_date', 'is_on_other_platform',\n",
       "       'meta_score', 'user_score', 'avg_score', 'rating_count', 'genre',\n",
       "       'Rating', 'critic_review_count', 'users_review_count',\n",
       "       'total_review_counts', 'critic_review_attitude',\n",
       "       'users_review_attitude', 'online'],\n",
       "      dtype='object')"
      ]
     },
     "execution_count": 44,
     "metadata": {},
     "output_type": "execute_result"
    }
   ],
   "source": [
    "df.columns"
   ]
  },
  {
   "cell_type": "markdown",
   "metadata": {},
   "source": [
    "There are only 750 games which can play online.Let's compare two groups' popularity and success."
   ]
  },
  {
   "cell_type": "code",
   "execution_count": 45,
   "metadata": {},
   "outputs": [
    {
     "data": {
      "image/png": "[encoded data removed]",
      "text/plain": [
       "<Figure size 864x432 with 1 Axes>"
      ]
     },
     "metadata": {
      "needs_background": "light"
     },
     "output_type": "display_data"
    }
   ],
   "source": [
    "group = df.groupby('online').agg('mean')[['avg_score','rating_count','total_review_counts',]]\n",
    "group.plot.bar(figsize=(12,6))\n",
    "plt.xlabel('Online or not',fontweight='bold',fontsize=15)\n",
    "plt.ylabel('',fontweight='bold',fontsize=15)\n",
    "plt.xticks(fontweight='bold',fontsize=12)\n",
    "plt.yticks(fontweight='bold',fontsize=12)\n",
    "plt.title('Compare online games with not online game',fontsize=15)\n",
    "plt.savefig('online.png',bbox_inches = 'tight')"
   ]
  },
  {
   "cell_type": "code",
   "execution_count": 72,
   "metadata": {},
   "outputs": [
    {
     "data": {
      "image/png": "[encoded data removed]",
      "text/plain": [
       "<Figure size 432x288 with 1 Axes>"
      ]
     },
     "metadata": {
      "needs_background": "light"
     },
     "output_type": "display_data"
    }
   ],
   "source": [
    "df.boxplot(by = 'online',column = 'avg_score')\n",
    "plt.xlabel('Online or not',fontweight='bold',fontsize=15)\n",
    "plt.ylabel('Average score',fontweight='bold',fontsize=15)\n",
    "plt.xticks(fontweight='bold',fontsize=12)\n",
    "plt.yticks(fontweight='bold',fontsize=12)\n",
    "plt.title('',fontsize=15)\n",
    "plt.savefig('online_score.png',bbox_inches = 'tight')"
   ]
  },
  {
   "cell_type": "code",
   "execution_count": 48,
   "metadata": {},
   "outputs": [
    {
     "data": {
      "text/plain": [
       "Ttest_indResult(statistic=-0.0071820668647326665, pvalue=0.9942703347343751)"
      ]
     },
     "execution_count": 48,
     "metadata": {},
     "output_type": "execute_result"
    }
   ],
   "source": [
    "from scipy import stats\n",
    "# Perform two sample t-test to see it the mean of avg_score of two groups are the same\n",
    "online_group = df[df.online == True]\n",
    "not_online_group = df[df.online != True]\n",
    "stats.ttest_ind(online_group['avg_score'].dropna(), not_online_group['avg_score'].dropna())"
   ]
  },
  {
   "cell_type": "markdown",
   "metadata": {},
   "source": [
    "Check what is the most popular top100 games in each group, and calculate the count of their genres."
   ]
  },
  {
   "cell_type": "code",
   "execution_count": 49,
   "metadata": {
    "scrolled": true
   },
   "outputs": [
    {
     "data": {
      "image/png": "[encoded data removed]",
      "text/plain": [
       "<Figure size 864x432 with 2 Axes>"
      ]
     },
     "metadata": {
      "needs_background": "light"
     },
     "output_type": "display_data"
    }
   ],
   "source": [
    "# plot top10 Genre with most count for online game\n",
    "online_game = df[df['online']==True]\n",
    "online_game = online_game.sort_values(by='rating_count',ascending = False)[['name']].head(100)\n",
    "online_game = pd.merge(online_game,df_genre,how='left',on='name')\n",
    "#online_game = online_game[online_game.avg_score>80]\n",
    "plt.figsize=(12,6)\n",
    "plt.subplot(1,2,1)\n",
    "online_game.genre.value_counts().head(10).plot.bar()\n",
    "plt.xlabel('Genre',fontweight='bold',fontsize=15)\n",
    "plt.ylabel('Count',fontweight='bold',fontsize=15)\n",
    "plt.xticks(fontweight='bold',fontsize=12)\n",
    "plt.yticks(fontweight='bold',fontsize=12)\n",
    "plt.title('Genre count for online game',fontsize=15)\n",
    "\n",
    "# plot top10 Genre with most count for not online game\n",
    "no_online_game = df[df['online']!=True]\n",
    "no_online_game = no_online_game.sort_values(by='rating_count',ascending = False)[['name']].head(100)\n",
    "no_online_game = pd.merge(no_online_game,df_genre,how='left',on='name')\n",
    "#no_online_game = no_online_game[no_online_game.avg_score>80]\n",
    "plt.subplot(1,2,2)\n",
    "no_online_game.genre.value_counts().head(10).plot.bar(figsize=(12,6))\n",
    "plt.xlabel('Genre',fontweight='bold',fontsize=15)\n",
    "plt.ylabel('Count',fontweight='bold',fontsize=15)\n",
    "plt.xticks(fontweight='bold',fontsize=12)\n",
    "plt.yticks(fontweight='bold',fontsize=12)\n",
    "plt.title('Genre count for not online game',fontsize=15)\n",
    "plt.savefig('online1.png',bbox_inches = 'tight')"
   ]
  },
  {
   "cell_type": "markdown",
   "metadata": {},
   "source": [
    "## Different Platform makes a differece?\n",
    "\n",
    "* Some games are transfer from other platform such as PS4 and Wii, how is their performance compared to games that only at switch?"
   ]
  },
  {
   "cell_type": "code",
   "execution_count": 50,
   "metadata": {},
   "outputs": [
    {
     "data": {
      "image/png": "[encoded data removed]",
      "text/plain": [
       "<Figure size 864x432 with 1 Axes>"
      ]
     },
     "metadata": {
      "needs_background": "light"
     },
     "output_type": "display_data"
    }
   ],
   "source": [
    "df.groupby('is_on_other_platform').agg('mean')[['avg_score','rating_count','total_review_counts']].plot.bar(figsize=(12,6))\n",
    "plt.xlabel('On other platform',fontweight='bold',fontsize=15)\n",
    "plt.xticks(fontweight='bold',fontsize=12)\n",
    "plt.yticks(fontweight='bold',fontsize=12)\n",
    "plt.title('Compare games that on other platfrom with games that only on switch',fontsize=15)\n",
    "plt.savefig('platform.png',bbox_inches = 'tight')"
   ]
  },
  {
   "cell_type": "code",
   "execution_count": 51,
   "metadata": {},
   "outputs": [
    {
     "data": {
      "text/html": [
       "<div>\n",
       "<style scoped>\n",
       "    .dataframe tbody tr th:only-of-type {\n",
       "        vertical-align: middle;\n",
       "    }\n",
       "\n",
       "    .dataframe tbody tr th {\n",
       "        vertical-align: top;\n",
       "    }\n",
       "\n",
       "    .dataframe thead th {\n",
       "        text-align: right;\n",
       "    }\n",
       "</style>\n",
       "<table border=\"1\" class=\"dataframe\">\n",
       "  <thead>\n",
       "    <tr style=\"text-align: right;\">\n",
       "      <th></th>\n",
       "      <th>count</th>\n",
       "    </tr>\n",
       "    <tr>\n",
       "      <th>is_on_other_platform</th>\n",
       "      <th></th>\n",
       "    </tr>\n",
       "  </thead>\n",
       "  <tbody>\n",
       "    <tr>\n",
       "      <th>False</th>\n",
       "      <td>857</td>\n",
       "    </tr>\n",
       "    <tr>\n",
       "      <th>True</th>\n",
       "      <td>3293</td>\n",
       "    </tr>\n",
       "  </tbody>\n",
       "</table>\n",
       "</div>"
      ],
      "text/plain": [
       "                      count\n",
       "is_on_other_platform       \n",
       "False                   857\n",
       "True                   3293"
      ]
     },
     "execution_count": 51,
     "metadata": {},
     "output_type": "execute_result"
    }
   ],
   "source": [
    "df.groupby('is_on_other_platform').agg(['count'])['total_review_counts']#.plot.bar(figsize=(12,6))"
   ]
  },
  {
   "cell_type": "markdown",
   "metadata": {},
   "source": [
    "## Selling Data vs scores a game is successful or not\n",
    "\n",
    "* what is the relationship between the sales of games and games’ popularity and success? \n",
    "* Can we use three criterion we defied before to predict the selling of a game?"
   ]
  },
  {
   "cell_type": "code",
   "execution_count": 52,
   "metadata": {},
   "outputs": [],
   "source": [
    "import seaborn as sns"
   ]
  },
  {
   "cell_type": "code",
   "execution_count": 53,
   "metadata": {},
   "outputs": [
    {
     "data": {
      "text/html": [
       "<div>\n",
       "<style scoped>\n",
       "    .dataframe tbody tr th:only-of-type {\n",
       "        vertical-align: middle;\n",
       "    }\n",
       "\n",
       "    .dataframe tbody tr th {\n",
       "        vertical-align: top;\n",
       "    }\n",
       "\n",
       "    .dataframe thead th {\n",
       "        text-align: right;\n",
       "    }\n",
       "</style>\n",
       "<table border=\"1\" class=\"dataframe\">\n",
       "  <thead>\n",
       "    <tr style=\"text-align: right;\">\n",
       "      <th></th>\n",
       "      <th>name</th>\n",
       "      <th>developer</th>\n",
       "      <th>release_date</th>\n",
       "      <th>is_on_other_platform</th>\n",
       "      <th>meta_score</th>\n",
       "      <th>user_score</th>\n",
       "      <th>avg_score</th>\n",
       "      <th>rating_count</th>\n",
       "      <th>genre</th>\n",
       "      <th>Rating</th>\n",
       "      <th>critic_review_count</th>\n",
       "      <th>users_review_count</th>\n",
       "      <th>total_review_counts</th>\n",
       "      <th>critic_review_attitude</th>\n",
       "      <th>users_review_attitude</th>\n",
       "      <th>online</th>\n",
       "    </tr>\n",
       "  </thead>\n",
       "  <tbody>\n",
       "    <tr>\n",
       "      <th>62</th>\n",
       "      <td>Pokemon: Let's Go, Pikachu!</td>\n",
       "      <td>Nintendo</td>\n",
       "      <td>2018-11-16</td>\n",
       "      <td>False</td>\n",
       "      <td>79.0</td>\n",
       "      <td>61.0</td>\n",
       "      <td>70.0</td>\n",
       "      <td>1597</td>\n",
       "      <td>Action RPG,Role-Playing,Trainer</td>\n",
       "      <td>E</td>\n",
       "      <td>92</td>\n",
       "      <td>670</td>\n",
       "      <td>762</td>\n",
       "      <td>{'Positive': 65, 'Mixed': 19, 'Negative': 0}</td>\n",
       "      <td>{'Positive': 305, 'Mixed': 75, 'Negative': 290}</td>\n",
       "      <td>True</td>\n",
       "    </tr>\n",
       "    <tr>\n",
       "      <th>63</th>\n",
       "      <td>Pokemon: Let's Go, Eevee!</td>\n",
       "      <td>Nintendo</td>\n",
       "      <td>2018-11-16</td>\n",
       "      <td>False</td>\n",
       "      <td>80.0</td>\n",
       "      <td>62.0</td>\n",
       "      <td>71.0</td>\n",
       "      <td>971</td>\n",
       "      <td>Action RPG,Role-Playing,Trainer</td>\n",
       "      <td>E</td>\n",
       "      <td>86</td>\n",
       "      <td>405</td>\n",
       "      <td>491</td>\n",
       "      <td>{'Positive': 62, 'Mixed': 15, 'Negative': 1}</td>\n",
       "      <td>{'Positive': 198, 'Mixed': 42, 'Negative': 165}</td>\n",
       "      <td>True</td>\n",
       "    </tr>\n",
       "    <tr>\n",
       "      <th>66</th>\n",
       "      <td>Pokemon Sword</td>\n",
       "      <td>Nintendo</td>\n",
       "      <td>2019-11-15</td>\n",
       "      <td>False</td>\n",
       "      <td>80.0</td>\n",
       "      <td>46.0</td>\n",
       "      <td>63.0</td>\n",
       "      <td>5040</td>\n",
       "      <td>Role-Playing,Trainer</td>\n",
       "      <td>E</td>\n",
       "      <td>94</td>\n",
       "      <td>2664</td>\n",
       "      <td>2758</td>\n",
       "      <td>{'Positive': 66, 'Mixed': 21, 'Negative': 0}</td>\n",
       "      <td>{'Positive': 778, 'Mixed': 330, 'Negative': 1556}</td>\n",
       "      <td>False</td>\n",
       "    </tr>\n",
       "    <tr>\n",
       "      <th>67</th>\n",
       "      <td>Pokemon Shield</td>\n",
       "      <td>Nintendo</td>\n",
       "      <td>2019-11-15</td>\n",
       "      <td>False</td>\n",
       "      <td>80.0</td>\n",
       "      <td>45.0</td>\n",
       "      <td>62.5</td>\n",
       "      <td>2646</td>\n",
       "      <td>Role-Playing,Trainer</td>\n",
       "      <td>E</td>\n",
       "      <td>96</td>\n",
       "      <td>1296</td>\n",
       "      <td>1392</td>\n",
       "      <td>{'Positive': 69, 'Mixed': 20, 'Negative': 0}</td>\n",
       "      <td>{'Positive': 404, 'Mixed': 170, 'Negative': 722}</td>\n",
       "      <td>True</td>\n",
       "    </tr>\n",
       "  </tbody>\n",
       "</table>\n",
       "</div>"
      ],
      "text/plain": [
       "                           name developer release_date  is_on_other_platform  \\\n",
       "62  Pokemon: Let's Go, Pikachu!  Nintendo   2018-11-16                 False   \n",
       "63    Pokemon: Let's Go, Eevee!  Nintendo   2018-11-16                 False   \n",
       "66                Pokemon Sword  Nintendo   2019-11-15                 False   \n",
       "67               Pokemon Shield  Nintendo   2019-11-15                 False   \n",
       "\n",
       "    meta_score  user_score  avg_score  rating_count  \\\n",
       "62        79.0        61.0       70.0          1597   \n",
       "63        80.0        62.0       71.0           971   \n",
       "66        80.0        46.0       63.0          5040   \n",
       "67        80.0        45.0       62.5          2646   \n",
       "\n",
       "                              genre Rating  critic_review_count  \\\n",
       "62  Action RPG,Role-Playing,Trainer      E                   92   \n",
       "63  Action RPG,Role-Playing,Trainer      E                   86   \n",
       "66             Role-Playing,Trainer      E                   94   \n",
       "67             Role-Playing,Trainer      E                   96   \n",
       "\n",
       "    users_review_count  total_review_counts  \\\n",
       "62                 670                  762   \n",
       "63                 405                  491   \n",
       "66                2664                 2758   \n",
       "67                1296                 1392   \n",
       "\n",
       "                          critic_review_attitude  \\\n",
       "62  {'Positive': 65, 'Mixed': 19, 'Negative': 0}   \n",
       "63  {'Positive': 62, 'Mixed': 15, 'Negative': 1}   \n",
       "66  {'Positive': 66, 'Mixed': 21, 'Negative': 0}   \n",
       "67  {'Positive': 69, 'Mixed': 20, 'Negative': 0}   \n",
       "\n",
       "                                users_review_attitude  online  \n",
       "62    {'Positive': 305, 'Mixed': 75, 'Negative': 290}    True  \n",
       "63    {'Positive': 198, 'Mixed': 42, 'Negative': 165}    True  \n",
       "66  {'Positive': 778, 'Mixed': 330, 'Negative': 1556}   False  \n",
       "67   {'Positive': 404, 'Mixed': 170, 'Negative': 722}    True  "
      ]
     },
     "execution_count": 53,
     "metadata": {},
     "output_type": "execute_result"
    }
   ],
   "source": [
    "df[df['name'].isin([\"Pokemon: Let's Go, Pikachu!\" ,\"Pokemon: Let's Go, Eevee!\",\"Pokemon Sword\",\"Pokemon Shield\"])]"
   ]
  },
  {
   "cell_type": "code",
   "execution_count": 54,
   "metadata": {},
   "outputs": [],
   "source": [
    "# Create datafram that combine Pokemon Sword and Shield ,Pokemon: Let's Go, Pikachu! and Eevee!\n",
    "df_poke = pd.DataFrame([\n",
    "                       [\"Pokemon: Let's Go, Pikachu! and Let's Go, Eevee!\",\"Nintendo\",pd.to_datetime('2018-11-16'),False,79.5,61.5,70.5,1597+971,\n",
    "                         \"Action RPG,Role-Playing,Trainer\",'E',92+86,670+405,762+491,{'Positive': 65+62, 'Mixed': 19+15, 'Negative': 1},\n",
    "                        {'Positive': 305+198, 'Mixed': 75+42, 'Negative': 290+165},True],\n",
    "                       [\"Pokemon Sword and Shield\",\"Nintendo\",pd.to_datetime('2019-11-15'),False,80,45.5,62.75,2646+5040,\n",
    "                         \"Role-Playing,Trainer\",'E',94+96,2664+1296,2758+1392,{'Positive': 66+69, 'Mixed': 21+20, 'Negative': 0},\n",
    "                        {'Positive': 778+404, 'Mixed': 330+170, 'Negative': 1556+722},False]\n",
    "                       ],\n",
    "                        columns=df.columns)\n",
    "df_combine = pd.concat([df_poke,df],axis=0)"
   ]
  },
  {
   "cell_type": "code",
   "execution_count": 74,
   "metadata": {},
   "outputs": [
    {
     "data": {
      "text/plain": [
       "(33, 2)"
      ]
     },
     "execution_count": 74,
     "metadata": {},
     "output_type": "execute_result"
    }
   ],
   "source": [
    "df_sell = pd.read_csv('switchsell.csv')#.drop('No.',axis = 1)\n",
    "df_sell.shape"
   ]
  },
  {
   "cell_type": "code",
   "execution_count": 76,
   "metadata": {},
   "outputs": [
    {
     "data": {
      "text/html": [
       "<div>\n",
       "<style scoped>\n",
       "    .dataframe tbody tr th:only-of-type {\n",
       "        vertical-align: middle;\n",
       "    }\n",
       "\n",
       "    .dataframe tbody tr th {\n",
       "        vertical-align: top;\n",
       "    }\n",
       "\n",
       "    .dataframe thead th {\n",
       "        text-align: right;\n",
       "    }\n",
       "</style>\n",
       "<table border=\"1\" class=\"dataframe\">\n",
       "  <thead>\n",
       "    <tr style=\"text-align: right;\">\n",
       "      <th></th>\n",
       "      <th>name</th>\n",
       "      <th>Copies sold in million</th>\n",
       "    </tr>\n",
       "  </thead>\n",
       "  <tbody>\n",
       "    <tr>\n",
       "      <th>0</th>\n",
       "      <td>Mario Kart 8 Deluxe</td>\n",
       "      <td>24.77</td>\n",
       "    </tr>\n",
       "    <tr>\n",
       "      <th>1</th>\n",
       "      <td>Super Smash Bros. Ultimate</td>\n",
       "      <td>18.84</td>\n",
       "    </tr>\n",
       "    <tr>\n",
       "      <th>2</th>\n",
       "      <td>The Legend of Zelda: Breath of the Wild</td>\n",
       "      <td>17.41</td>\n",
       "    </tr>\n",
       "    <tr>\n",
       "      <th>3</th>\n",
       "      <td>Super Mario Odyssey</td>\n",
       "      <td>17.41</td>\n",
       "    </tr>\n",
       "    <tr>\n",
       "      <th>4</th>\n",
       "      <td>Pokemon Sword and Shield</td>\n",
       "      <td>17.37</td>\n",
       "    </tr>\n",
       "  </tbody>\n",
       "</table>\n",
       "</div>"
      ],
      "text/plain": [
       "                                      name  Copies sold in million\n",
       "0                      Mario Kart 8 Deluxe                   24.77\n",
       "1               Super Smash Bros. Ultimate                   18.84\n",
       "2  The Legend of Zelda: Breath of the Wild                   17.41\n",
       "3                      Super Mario Odyssey                   17.41\n",
       "4                 Pokemon Sword and Shield                   17.37"
      ]
     },
     "execution_count": 76,
     "metadata": {},
     "output_type": "execute_result"
    }
   ],
   "source": [
    "df_sell.head(5)"
   ]
  },
  {
   "cell_type": "code",
   "execution_count": 56,
   "metadata": {},
   "outputs": [],
   "source": [
    "df_withsell = pd.merge(df_sell,df_combine,on = 'name')"
   ]
  },
  {
   "cell_type": "code",
   "execution_count": 84,
   "metadata": {},
   "outputs": [
    {
     "data": {
      "image/png": "[encoded data removed]",
      "text/plain": [
       "<Figure size 360x360 with 1 Axes>"
      ]
     },
     "metadata": {
      "needs_background": "light"
     },
     "output_type": "display_data"
    }
   ],
   "source": [
    "sns.lmplot('rating_count','Copies sold in million', df_withsell)\n",
    "plt.savefig('rc.png',bbox_inches = 'tight')"
   ]
  },
  {
   "cell_type": "code",
   "execution_count": 78,
   "metadata": {},
   "outputs": [
    {
     "data": {
      "image/png": "[encoded data removed]",
      "text/plain": [
       "<Figure size 360x360 with 1 Axes>"
      ]
     },
     "metadata": {
      "needs_background": "light"
     },
     "output_type": "display_data"
    }
   ],
   "source": [
    "sns.lmplot('total_review_counts','Copies sold in million', df_withsell)\n",
    "plt.savefig('trc.png',bbox_inches = 'tight')"
   ]
  },
  {
   "cell_type": "code",
   "execution_count": 79,
   "metadata": {},
   "outputs": [
    {
     "data": {
      "image/png": "[encoded data removed]",
      "text/plain": [
       "<Figure size 360x360 with 1 Axes>"
      ]
     },
     "metadata": {
      "needs_background": "light"
     },
     "output_type": "display_data"
    }
   ],
   "source": [
    "sns.lmplot('avg_score','Copies sold in million', df_withsell)\n",
    "plt.savefig('as.png',bbox_inches = 'tight')"
   ]
  },
  {
   "cell_type": "markdown",
   "metadata": {},
   "source": [
    "# Conclusion\n",
    "\n",
    "* The most popular game genre: Virtual Life, Open-World\n",
    "* Developer that makes the most popular games: Nintendo. However, their games is not considered the most successful. It will be very   useful to look at Nintendo games strategy.\n",
    "* Nintendo should make more games which can take advantage of online service such as arcade, shooter games to make more people pay for the online service.\n",
    "* Games that are transferred from other platform perform bad than games that are only on switch. Reason may be that those transfer games are not originally designed for playing on switch.\n",
    "* We can consider using popularity to predict the games selling, but with caution. \n"
   ]
  },
  {
   "cell_type": "markdown",
   "metadata": {},
   "source": [
    "# Future Work\n",
    "\n",
    "* Some games have high user and meta score may because of insufficient rating and reviews, how can we overcome this issue?\n",
    "* What is the distribution of the release date? Does it have a relationship with games' popularity or success?\n",
    "* For some specific games, is there any difference between their critic reviews and user reviews?\n",
    "* Scrap all user review and critic review and do sentiment analysis to see how people actually think of a specific game."
   ]
  }
 ],
 "metadata": {
  "kernelspec": {
   "display_name": "Python 3",
   "language": "python",
   "name": "python3"
  },
  "language_info": {
   "codemirror_mode": {
    "name": "ipython",
    "version": 3
   },
   "file_extension": ".py",
   "mimetype": "text/x-python",
   "name": "python",
   "nbconvert_exporter": "python",
   "pygments_lexer": "ipython3",
   "version": "3.7.6"
  }
 },
 "nbformat": 4,
 "nbformat_minor": 4
}
